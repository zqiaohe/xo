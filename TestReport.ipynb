{
  "nbformat": 4,
  "nbformat_minor": 0,
  "metadata": {
    "colab": {
      "name": "TestReport.ipynb",
      "provenance": [],
      "collapsed_sections": [],
      "mount_file_id": "1DLAmjAfKxiKCbzPfr_m_Pzphhy0_bfNT",
      "authorship_tag": "ABX9TyPRCm8K8plkuNNJYHFExtEt"
    },
    "kernelspec": {
      "name": "python3",
      "display_name": "Python 3"
    },
    "language_info": {
      "name": "python"
    }
  },
  "cells": [
    {
      "cell_type": "code",
      "metadata": {
        "id": "XiaRyGBbhYjN"
      },
      "source": [
        "import gspread\n",
        "import pandas as pd\n",
        "from oauth2client.service_account import ServiceAccountCredentials"
      ],
      "execution_count": 286,
      "outputs": []
    },
    {
      "cell_type": "code",
      "metadata": {
        "id": "77RfhHQt_9XY"
      },
      "source": [
        "# подключаемся к файлу\n",
        "scope = ['https://spreadsheets.google.com/feeds','https://www.googleapis.com/auth/drive']\n",
        "creds = ServiceAccountCredentials.from_json_keyfile_name('/content/analog-oven-310306-0db0982e2069.json', scope)\n",
        "client = gspread.authorize(creds)"
      ],
      "execution_count": 287,
      "outputs": []
    },
    {
      "cell_type": "code",
      "metadata": {
        "id": "o43GEfOeFhDd"
      },
      "source": [
        "sh = client.open_by_key('1B_7BIGEQVRcdE9RY9U5fhNMCPzIZbTbSnXWLLJeKU2M')"
      ],
      "execution_count": 288,
      "outputs": []
    },
    {
      "cell_type": "code",
      "metadata": {
        "id": "BMPYlq2OHKqd"
      },
      "source": [
        "#загружаем листы\n",
        "legend = sh.worksheet('Легенда')\n",
        "transactions = sh.worksheet('transactions')\n",
        "clients = sh.worksheet('clients')\n",
        "managers = sh.worksheet('managers')\n",
        "leads = sh.worksheet('leads')"
      ],
      "execution_count": 289,
      "outputs": []
    },
    {
      "cell_type": "code",
      "metadata": {
        "id": "Cva7lsGkHveV"
      },
      "source": [
        "#создаем датафреймы\n",
        "tdf = pd.DataFrame(transactions.get_all_records())\n",
        "cdf = pd.DataFrame(clients.get_all_records())\n",
        "mdf = pd.DataFrame(managers.get_all_records())\n",
        "ldf = pd.DataFrame(leads.get_all_records())"
      ],
      "execution_count": 290,
      "outputs": []
    },
    {
      "cell_type": "code",
      "metadata": {
        "id": "WZVA-X0IO0A-"
      },
      "source": [
        "ldf.loc[ldf['d_utm_source']=='vkontakte', 'd_utm_source'] = 'vk'\n",
        "ldf.loc[ldf['d_utm_source']=='ycard#!/tproduct/225696739-1498486363994', 'd_utm_source'] = 'ycard'\n",
        "ldf.loc[ldf['d_utm_source']=='ig', 'd_utm_source'] = 'instagram'\n",
        "ldf.loc[ldf['d_utm_source']=='insta', 'd_utm_source'] = 'instagram'\n"
      ],
      "execution_count": 291,
      "outputs": []
    },
    {
      "cell_type": "code",
      "metadata": {
        "id": "qmCz9hSGOKAe"
      },
      "source": [
        "report = pd.DataFrame()\n",
        "#количество заявок\n",
        "report['leads'] = ldf.merge(mdf, how='left', right_on='manager_id', left_on='l_manager_id').groupby(['d_utm_source', 'd_club', 'd_manager'])['l_client_id'].count()\n"
      ],
      "execution_count": 313,
      "outputs": []
    },
    {
      "cell_type": "code",
      "metadata": {
        "id": "sOI5Lwy9QNc2"
      },
      "source": [
        "#количество мусорных заявок (на основании заявки не создан клиент) \n",
        "report['trash_leads'] = ldf[ldf.merge(cdf, how='left', right_on='client_id', left_on='l_client_id')['client_id'].isna()].merge(mdf, how='left', right_on='manager_id', left_on='l_manager_id').groupby(['d_utm_source', 'd_club', 'd_manager'])['l_client_id'].count()"
      ],
      "execution_count": 314,
      "outputs": []
    },
    {
      "cell_type": "code",
      "metadata": {
        "id": "EXn2oX4eoeaM"
      },
      "source": [
        "#ищем немусорные заявки первые для l_client_id \n",
        "new_leads = ldf[ldf['l_client_id']!='00000000-0000-0000-0000-000000000000'][['l_client_id']].merge(ldf, how='left', on='l_client_id')\n",
        "new_leads = new_leads.assign(rn=new_leads.sort_values([\"created_at\"], ascending=True).groupby([\"l_client_id\"]).cumcount()+ 1).query('rn==1')"
      ],
      "execution_count": 315,
      "outputs": []
    },
    {
      "cell_type": "code",
      "metadata": {
        "id": "4HJ970I8ymnf"
      },
      "source": [
        "#ищем транзакции первые для l_client_id \n",
        "new_leads = new_leads.merge(tdf, how='left', on='l_client_id')\n",
        "#новые заявки\n",
        "new_leads = new_leads.assign(rn=new_leads.sort_values([\"created_at_y\"], ascending=True).groupby([\"l_client_id\"]).cumcount()+ 1).query('rn==1 and created_at_y >= created_at_x')\n"
      ],
      "execution_count": 331,
      "outputs": []
    },
    {
      "cell_type": "code",
      "metadata": {
        "id": "QY6dsB5FL-70"
      },
      "source": [
        "report['new_leads'] = new_leads.merge(mdf, how='left', right_on='manager_id', left_on='l_manager_id').groupby(['d_utm_source', 'd_club', 'd_manager'])['lead_id'].count()"
      ],
      "execution_count": 332,
      "outputs": []
    },
    {
      "cell_type": "code",
      "metadata": {
        "id": "5NiDWpfHMaqt"
      },
      "source": [
        "#количество покупателей (кто купил в течение недели после заявки)\n",
        "customers = ldf.merge(tdf, how='left', on='l_client_id')\n",
        "customers =customers[(pd.to_datetime(customers['created_at_y'])-pd.to_datetime(customers['created_at_x']) <= pd.Timedelta('7 days')) & (pd.to_datetime(customers['created_at_y'])-pd.to_datetime(customers['created_at_x']) >= pd.Timedelta(seconds=0))]\n",
        "report['customers'] = customers.merge(mdf, how='left', right_on='manager_id', left_on='l_manager_id').groupby(['d_utm_source', 'd_club', 'd_manager'])['l_client_id'].count()"
      ],
      "execution_count": 319,
      "outputs": []
    },
    {
      "cell_type": "code",
      "metadata": {
        "id": "urFpPaW9iyo-"
      },
      "source": [
        "#количество новых покупателей (кто купил в течение недели после заявки, и не покупал раньше)\n",
        "new_customers = ldf.merge(tdf, how='left', on='l_client_id')\n",
        "new_customers = new_customers.assign(rn=new_customers.sort_values([\"created_at_y\"], ascending=True).groupby([\"l_client_id\"]).cumcount()+ 1).query('rn==1')\n",
        "new_customers = new_customers[(pd.to_datetime(new_customers['created_at_y'])-pd.to_datetime(new_customers['created_at_x']) <= pd.Timedelta('7 days')) & (pd.to_datetime(new_customers['created_at_y'])-pd.to_datetime(new_customers['created_at_x']) >= pd.Timedelta(seconds=0))]\n",
        "report['new_customers'] = new_customers.merge(mdf, how='left', right_on='manager_id', left_on='l_manager_id').groupby(['d_utm_source', 'd_club', 'd_manager'])['l_client_id'].count()"
      ],
      "execution_count": 322,
      "outputs": []
    },
    {
      "cell_type": "code",
      "metadata": {
        "id": "JvtLDxLnkE9v"
      },
      "source": [
        "#доход от покупок новых покупателей\n",
        "report['income_from_new_customers']=new_customers.merge(mdf, how='left', right_on='manager_id', left_on='l_manager_id').groupby(['d_utm_source', 'd_club', 'd_manager'])['m_real_amount'].sum()"
      ],
      "execution_count": 329,
      "outputs": []
    },
    {
      "cell_type": "code",
      "metadata": {
        "id": "gKZMZtcToQTp"
      },
      "source": [
        "from gspread_dataframe import set_with_dataframe"
      ],
      "execution_count": 326,
      "outputs": []
    },
    {
      "cell_type": "code",
      "metadata": {
        "id": "qhfN8KOjpJSw"
      },
      "source": [
        "set_with_dataframe(sh.worksheet('report'), report.reset_index())"
      ],
      "execution_count": 333,
      "outputs": []
    }
  ]
}